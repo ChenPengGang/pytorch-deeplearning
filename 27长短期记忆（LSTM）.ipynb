{
 "cells": [
  {
   "cell_type": "code",
   "execution_count": 1,
   "metadata": {},
   "outputs": [],
   "source": [
    "import numpy as np\n",
    "import torch\n",
    "from torch import nn, optim\n",
    "import torch.nn.functional as F\n",
    "import sys\n",
    "import d2lzh_pytorch as d2l\n",
    "device = torch.device('cuda' if torch.cuda.is_available() else 'cpu')\n",
    "\n",
    "(corpus_indices, char_to_idx, idx_to_char, vocab_size) = d2l.load_data_jay_lyrics()"
   ]
  },
  {
   "cell_type": "markdown",
   "metadata": {},
   "source": [
    "# 初始化模型参数"
   ]
  },
  {
   "cell_type": "code",
   "execution_count": 2,
   "metadata": {},
   "outputs": [
    {
     "name": "stdout",
     "output_type": "stream",
     "text": [
      "will use cuda\n"
     ]
    }
   ],
   "source": [
    "num_inputs, num_hiddens, num_outputs = vocab_size, 256, vocab_size\n",
    "print('will use', device)\n",
    "\n",
    "def get_params():\n",
    "    def _one(shape):\n",
    "        ts = torch.tensor(np.random.normal(0, 0.01, size=shape), device=device, dtype=torch.float32)\n",
    "        return torch.nn.Parameter(ts, requires_grad=True)\n",
    "    def _three():\n",
    "        return (_one((num_inputs, num_hiddens)),\n",
    "                _one((num_hiddens, num_hiddens)),\n",
    "                torch.nn.Parameter(torch.zeros(num_hiddens, device=device, dtype=torch.float32), requires_grad=True))\n",
    "    \n",
    "    W_xi, W_hi, b_i = _three()  # 输入门参数\n",
    "    W_xf, W_hf, b_f = _three()  # 遗忘门参数\n",
    "    W_xo, W_ho, b_o = _three()  # 输出门参数\n",
    "    W_xc, W_hc, b_c = _three()  # 候选记忆细胞参数\n",
    "    \n",
    "    # 输出层参数\n",
    "    W_hq = _one((num_hiddens, num_outputs))\n",
    "    b_q = torch.nn.Parameter(torch.zeros(num_outputs, device=device, dtype=torch.float32), requires_grad=True)\n",
    "    return nn.ParameterList([W_xi, W_hi, b_i, W_xf, W_hf, b_f, W_xo, W_ho, b_o, W_xc, W_hc, b_c, W_hq, b_q])"
   ]
  },
  {
   "cell_type": "markdown",
   "metadata": {},
   "source": [
    "# 定义模型"
   ]
  },
  {
   "cell_type": "code",
   "execution_count": 3,
   "metadata": {},
   "outputs": [],
   "source": [
    "def init_lstm_state(batch_size, num_hiddens, device):\n",
    "    return (torch.zeros((batch_size, num_hiddens), device=device), \n",
    "            torch.zeros((batch_size, num_hiddens), device=device))"
   ]
  },
  {
   "cell_type": "raw",
   "metadata": {},
   "source": [
    "下面根据长短期记忆的计算表达式定义模型。需要注意的是，只有隐藏状态会传递到输出层，而记忆细胞不参与输出层的计算。"
   ]
  },
  {
   "cell_type": "code",
   "execution_count": 4,
   "metadata": {},
   "outputs": [],
   "source": [
    "def lstm(inputs, state, params):\n",
    "    [W_xi, W_hi, b_i, W_xf, W_hf, b_f, W_xo, W_ho, b_o, W_xc, W_hc, b_c, W_hq, b_q] = params\n",
    "    (H, C) = state\n",
    "    outputs = []\n",
    "    for X in inputs:\n",
    "        I = torch.sigmoid(torch.matmul(X, W_xi) + torch.matmul(H, W_hi) + b_i)\n",
    "        F = torch.sigmoid(torch.matmul(X, W_xf) + torch.matmul(H, W_hf) + b_f)\n",
    "        O = torch.sigmoid(torch.matmul(X, W_xo) + torch.matmul(H, W_ho) + b_o)\n",
    "        C_tilda = torch.tanh(torch.matmul(X, W_xc) + torch.matmul(H, W_hc) + b_c)\n",
    "        C = F * C + I * C_tilda\n",
    "        H = O * C.tanh()\n",
    "        Y = torch.matmul(H, W_hq) + b_q\n",
    "        outputs.append(Y)\n",
    "    return outputs, (H, C)"
   ]
  },
  {
   "cell_type": "markdown",
   "metadata": {},
   "source": [
    "# 训练模型并创作歌词"
   ]
  },
  {
   "cell_type": "raw",
   "metadata": {},
   "source": [
    "同上一节一样，我们在训练模型时只使用相邻采样。设置好超参数后，我们将训练模型并根据前缀“分开”和“不分开”分别创作长度为50个字符的一段歌词。"
   ]
  },
  {
   "cell_type": "code",
   "execution_count": 10,
   "metadata": {},
   "outputs": [],
   "source": [
    "num_epochs, num_steps, batch_size, lr, clipping_theta = 160, 10, 10, 1e2, 1e-2\n",
    "pred_period, pred_len, prefixes = 40, 50, ['雪地', '雪地']"
   ]
  },
  {
   "cell_type": "code",
   "execution_count": 11,
   "metadata": {},
   "outputs": [
    {
     "name": "stdout",
     "output_type": "stream",
     "text": [
      "epoch 40, perplexity 9.600780, time 0.36 sec\n",
      " - 雪地    许融了的手松    彼此紧了 就不该再来   缘若尽了 就不该再来 女：你你旧 住你我的 回\n",
      " - 雪地    许融了的手松    彼此紧了 就不该再来   缘若尽了 就不该再来 女：你你旧 住你我的 回\n",
      "epoch 80, perplexity 2.022144, time 0.35 sec\n",
      " - 雪地里相爱    或许我们都 不该醒来 女：你还是 住在我的 回忆里不出来 男：我我们 将你的手 交给下\n",
      " - 雪地里相爱    或许我们都 不该醒来 女：你还是 住在我的 回忆里不出来 男：我我们 将你的手 交给下\n",
      "epoch 120, perplexity 1.148318, time 0.40 sec\n",
      " - 雪地里相爱 他们说零下已结晶 的誓言 不会坏 但爱的状态 却不会永远都冰封 而透明 的存在 轻轻飘 落下\n",
      " - 雪地里相爱 他们说零下已结晶 的誓言 不会坏 但爱的状态 却不会永远都冰封 而透明 的存在 轻轻飘 落下\n",
      "epoch 160, perplexity 1.171864, time 0.46 sec\n",
      " - 雪地里相爱 他们说零下已结晶 的誓言 不会坏 但爱的状态 却不会永远都冰封 而透明 的存在 轻轻飘 落下\n",
      " - 雪地里相爱 他们说零下已结晶 的誓言 不会坏 但爱的状态 却不会永远都冰封 而透明 的存在 轻轻飘 落下\n"
     ]
    }
   ],
   "source": [
    "#我们每过40个迭代周期便根据当前训练的模型创作一段歌词。\n",
    "d2l.train_and_predict_rnn(lstm, get_params, init_lstm_state, num_hiddens,\n",
    "                          vocab_size, device, corpus_indices, idx_to_char,\n",
    "                          char_to_idx, False, num_epochs, num_steps, lr,\n",
    "                          clipping_theta, batch_size, pred_period, pred_len,\n",
    "                          prefixes)"
   ]
  },
  {
   "cell_type": "markdown",
   "metadata": {},
   "source": [
    "# 简洁实现"
   ]
  },
  {
   "cell_type": "code",
   "execution_count": 12,
   "metadata": {},
   "outputs": [
    {
     "name": "stdout",
     "output_type": "stream",
     "text": [
      "epoch 40, perplexity 1.033172, time 0.05 sec\n",
      " - 雪地里相爱 他们说零下已结晶 的誓言 不会坏 合：但爱的状态 却不会永远都冰封 而透明 的存在 轻轻飘 \n",
      " - 雪地里相爱 他们说零下已结晶 的誓言 不会坏 合：但爱的状态 却不会永远都冰封 而透明 的存在 轻轻飘 \n",
      "epoch 80, perplexity 1.045994, time 0.07 sec\n",
      " - 雪地里相爱 他们说零下已结晶 的誓言 不会坏 但爱的状态 却不会永远都冰封 而透明 的存在 轻轻飘 落下\n",
      " - 雪地里相爱 他们说零下已结晶 的誓言 不会坏 但爱的状态 却不会永远都冰封 而透明 的存在 轻轻飘 落下\n",
      "epoch 120, perplexity 1.017066, time 0.09 sec\n",
      " - 雪地里相爱 他们说零下已结晶 的誓言 不会坏 但爱的状态 却不会永远都冰封 而透明 的存在 轻轻飘 落下\n",
      " - 雪地里相爱 他们说零下已结晶 的誓言 不会坏 但爱的状态 却不会永远都冰封 而透明 的存在 轻轻飘 落下\n",
      "epoch 160, perplexity 1.017120, time 0.07 sec\n",
      " - 雪地里相爱 他们说零下已结晶 的誓言 不会坏 但爱的状态 却不会永远都冰封 而透明 的存在 轻轻飘 落下\n",
      " - 雪地里相爱 他们说零下已结晶 的誓言 不会坏 但爱的状态 却不会永远都冰封 而透明 的存在 轻轻飘 落下\n"
     ]
    }
   ],
   "source": [
    "lr = 1e-2 # 注意调整学习率\n",
    "lstm_layer = nn.LSTM(input_size=vocab_size, hidden_size=num_hiddens)\n",
    "model = d2l.RNNModel(lstm_layer, vocab_size)\n",
    "d2l.train_and_predict_rnn_pytorch(model, num_hiddens, vocab_size, device,\n",
    "                                corpus_indices, idx_to_char, char_to_idx,\n",
    "                                num_epochs, num_steps, lr, clipping_theta,\n",
    "                                batch_size, pred_period, pred_len, prefixes)"
   ]
  },
  {
   "cell_type": "code",
   "execution_count": null,
   "metadata": {},
   "outputs": [],
   "source": []
  }
 ],
 "metadata": {
  "kernelspec": {
   "display_name": "Python 3",
   "language": "python",
   "name": "python3"
  },
  "language_info": {
   "codemirror_mode": {
    "name": "ipython",
    "version": 3
   },
   "file_extension": ".py",
   "mimetype": "text/x-python",
   "name": "python",
   "nbconvert_exporter": "python",
   "pygments_lexer": "ipython3",
   "version": "3.7.1"
  }
 },
 "nbformat": 4,
 "nbformat_minor": 2
}
