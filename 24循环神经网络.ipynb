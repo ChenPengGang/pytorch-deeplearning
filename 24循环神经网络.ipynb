{
 "cells": [
  {
   "cell_type": "raw",
   "metadata": {},
   "source": [
    "在本节中，我们将从零开始实现一个基于字符级循环神经网络的语言模型，并在周杰伦专辑歌词数据集上训练一个模型来进行歌词创作。首先，我们读取周杰伦专辑歌词数据集："
   ]
  },
  {
   "cell_type": "code",
   "execution_count": 18,
   "metadata": {},
   "outputs": [],
   "source": [
    "import time\n",
    "import math\n",
    "import numpy as np\n",
    "import torch\n",
    "from torch import nn, optim\n",
    "import torch.nn.functional as F\n",
    "import sys\n",
    "import d2lzh_pytorch as d2l\n",
    "device = torch.device('cuda' if torch.cuda.is_available() else 'cpu')\n",
    "\n",
    "(corpus_indices, char_to_idx, idx_to_char, vocab_size) = d2l.load_data_jay_lyrics()"
   ]
  },
  {
   "cell_type": "markdown",
   "metadata": {},
   "source": [
    "# one-hot向量"
   ]
  },
  {
   "cell_type": "raw",
   "metadata": {},
   "source": [
    "为了将词表示成向量输入到神经网络，一个简单的办法是使用one-hot向量。假设词典中不同字符的数量为$N$（即词典大小vocab_size），每个字符已经同一个从0到$N-1$的连续整数值索引一一对应。如果一个字符的索引是整数$i$, 那么我们创建一个全0的长为$N$的向量，并将其位置为$i$的元素设成1。该向量就是对原字符的one-hot向量。下面分别展示了索引为0和2的one-hot向量，向量长度等于词典大小。\n",
    "\n",
    "pytorch没有自带one-hot函数(新版好像有了)，下面自己实现一个"
   ]
  },
  {
   "cell_type": "code",
   "execution_count": 31,
   "metadata": {},
   "outputs": [
    {
     "data": {
      "text/plain": [
       "tensor([[1., 0., 0., 0., 0., 0., 0., 0., 0., 0., 0., 0., 0., 0., 0., 0., 0., 0.,\n",
       "         0., 0., 0., 0., 0., 0., 0., 0., 0., 0., 0., 0., 0., 0., 0., 0., 0., 0.,\n",
       "         0., 0., 0., 0., 0., 0., 0., 0., 0., 0., 0., 0., 0., 0., 0., 0., 0., 0.,\n",
       "         0., 0., 0., 0., 0., 0., 0., 0., 0., 0., 0., 0., 0., 0., 0., 0., 0., 0.,\n",
       "         0., 0., 0., 0., 0., 0., 0., 0., 0., 0., 0., 0., 0., 0., 0., 0., 0., 0.,\n",
       "         0., 0., 0., 0., 0., 0., 0., 0., 0., 0., 0., 0., 0., 0., 0., 0., 0., 0.,\n",
       "         0., 0., 0., 0., 0., 0., 0., 0., 0., 0., 0., 0., 0., 0., 0., 0., 0., 0.,\n",
       "         0., 0., 0., 0., 0., 0., 0., 0., 0., 0., 0., 0., 0., 0., 0., 0., 0., 0.,\n",
       "         0., 0., 0., 0., 0., 0., 0., 0., 0., 0., 0., 0., 0., 0., 0., 0., 0., 0.,\n",
       "         0., 0., 0., 0., 0., 0., 0., 0., 0., 0., 0., 0., 0., 0., 0., 0., 0., 0.],\n",
       "        [0., 0., 1., 0., 0., 0., 0., 0., 0., 0., 0., 0., 0., 0., 0., 0., 0., 0.,\n",
       "         0., 0., 0., 0., 0., 0., 0., 0., 0., 0., 0., 0., 0., 0., 0., 0., 0., 0.,\n",
       "         0., 0., 0., 0., 0., 0., 0., 0., 0., 0., 0., 0., 0., 0., 0., 0., 0., 0.,\n",
       "         0., 0., 0., 0., 0., 0., 0., 0., 0., 0., 0., 0., 0., 0., 0., 0., 0., 0.,\n",
       "         0., 0., 0., 0., 0., 0., 0., 0., 0., 0., 0., 0., 0., 0., 0., 0., 0., 0.,\n",
       "         0., 0., 0., 0., 0., 0., 0., 0., 0., 0., 0., 0., 0., 0., 0., 0., 0., 0.,\n",
       "         0., 0., 0., 0., 0., 0., 0., 0., 0., 0., 0., 0., 0., 0., 0., 0., 0., 0.,\n",
       "         0., 0., 0., 0., 0., 0., 0., 0., 0., 0., 0., 0., 0., 0., 0., 0., 0., 0.,\n",
       "         0., 0., 0., 0., 0., 0., 0., 0., 0., 0., 0., 0., 0., 0., 0., 0., 0., 0.,\n",
       "         0., 0., 0., 0., 0., 0., 0., 0., 0., 0., 0., 0., 0., 0., 0., 0., 0., 0.]])"
      ]
     },
     "execution_count": 31,
     "metadata": {},
     "output_type": "execute_result"
    }
   ],
   "source": [
    "def one_hot(x, n_class, dtype=torch.float32): \n",
    "    # X shape: (batch), output shape: (batch, n_class)\n",
    "    x = x.long()\n",
    "    res = torch.zeros(x.shape[0], n_class, dtype=dtype, device=x.device)\n",
    "    res.scatter_(1, x.view(-1, 1), 1)\n",
    "    return res\n",
    "    \n",
    "x = torch.tensor([0, 2])\n",
    "one_hot(x, vocab_size)"
   ]
  },
  {
   "cell_type": "raw",
   "metadata": {},
   "source": [
    "我们每次采样的小批量的形状是(批量大小, 时间步数)。下面的函数将这样的小批量变换成数个可以输入进网络的形状为(批量大小, 词典大小)的矩阵，矩阵个数等于时间步数。也就是说，时间步$t$的输入为$\\boldsymbol{X}_t \\in \\mathbb{R}^{n \\times d}$，其中$n$为批量大小，$d$为输入个数，即one-hot向量长度（词典大小）。"
   ]
  },
  {
   "cell_type": "code",
   "execution_count": 20,
   "metadata": {},
   "outputs": [
    {
     "name": "stdout",
     "output_type": "stream",
     "text": [
      "5 torch.Size([2, 180])\n"
     ]
    }
   ],
   "source": [
    "# 本函数已保存在d2lzh_pytorch包中方便以后使用\n",
    "def to_onehot(X,n_class):\n",
    "    # X shape: (batch, seq_len), output: seq_len elements of (batch, n_class)\n",
    "    return [one_hot(X[:,i],n_class) for i in range(X.shape[1])]\n",
    "\n",
    "X=torch.arange(10).view(2,5)\n",
    "inputs=to_onehot(X,vocab_size)\n",
    "print(len(inputs),inputs[0].shape)"
   ]
  },
  {
   "cell_type": "markdown",
   "metadata": {},
   "source": [
    "# 初始化模型参数"
   ]
  },
  {
   "cell_type": "raw",
   "metadata": {},
   "source": [
    "接下来，我们初始化模型参数。隐藏单元个数 num_hiddens是一个超参数。"
   ]
  },
  {
   "cell_type": "code",
   "execution_count": 21,
   "metadata": {},
   "outputs": [
    {
     "name": "stdout",
     "output_type": "stream",
     "text": [
      "will use  cuda\n"
     ]
    }
   ],
   "source": [
    "num_inputs, num_hiddens, num_outputs = vocab_size, 256, vocab_size\n",
    "print('will use ',device)\n",
    "\n",
    "def get_params():\n",
    "    def _one(shape):\n",
    "        ts=torch.tensor(np.random.normal(0,0.01,size=shape),device=device,dtype=torch.float32)\n",
    "        return torch.nn.Parameter(ts,requires_grad=True)\n",
    "    # 隐藏层参数\n",
    "    W_xh = _one((num_inputs, num_hiddens))\n",
    "    W_hh = _one((num_hiddens, num_hiddens))\n",
    "    b_h = torch.nn.Parameter(torch.zeros(num_hiddens, device=device, requires_grad=True))\n",
    "    # 输出层参数\n",
    "    W_hq = _one((num_hiddens, num_outputs))\n",
    "    b_q = torch.nn.Parameter(torch.zeros(num_outputs, device=device, requires_grad=True))\n",
    "    return nn.ParameterList([W_xh, W_hh, b_h, W_hq, b_q])"
   ]
  },
  {
   "cell_type": "markdown",
   "metadata": {},
   "source": [
    "# 定义模型"
   ]
  },
  {
   "cell_type": "raw",
   "metadata": {},
   "source": [
    "我们根据循环神经网络的计算表达式实现该模型。首先定义init_rnn_state函数来返回初始化的隐藏状态。它返回由一个形状为(批量大小, 隐藏单元个数)的值为0的NDArray组成的元组。使用元组是为了更便于处理隐藏状态含有多个NDArray的情况。"
   ]
  },
  {
   "cell_type": "code",
   "execution_count": 22,
   "metadata": {},
   "outputs": [],
   "source": [
    "def init_rnn_state(batch_size, num_hiddens, device):\n",
    "    return (torch.zeros((batch_size, num_hiddens), device=device), )"
   ]
  },
  {
   "cell_type": "raw",
   "metadata": {},
   "source": [
    "下面的rnn函数定义了在一个时间步里如何计算隐藏状态和输出。这里的激活函数使用了tanh函数。3.8节（多层感知机）中介绍过，当元素在实数域上均匀分布时，tanh函数值的均值为0。"
   ]
  },
  {
   "cell_type": "code",
   "execution_count": 23,
   "metadata": {},
   "outputs": [],
   "source": [
    "def rnn(inputs, state, params):\n",
    "    # inputs和outputs皆为num_steps个形状为(batch_size, vocab_size)的矩阵\n",
    "    W_xh, W_hh, b_h, W_hq, b_q = params\n",
    "    H, = state\n",
    "    outputs = []\n",
    "    for X in inputs:\n",
    "        H = torch.tanh(torch.matmul(X, W_xh) + torch.matmul(H, W_hh) + b_h)\n",
    "        Y = torch.matmul(H, W_hq) + b_q\n",
    "        outputs.append(Y)\n",
    "    return outputs, (H,)"
   ]
  },
  {
   "cell_type": "raw",
   "metadata": {},
   "source": [
    "做个简单的测试来观察输出结果的个数（时间步数），以及第一个时间步的输出层输出的形状和隐藏状态的形状。"
   ]
  },
  {
   "cell_type": "code",
   "execution_count": 24,
   "metadata": {},
   "outputs": [
    {
     "name": "stdout",
     "output_type": "stream",
     "text": [
      "5 torch.Size([2, 180]) torch.Size([2, 256])\n"
     ]
    }
   ],
   "source": [
    "state = init_rnn_state(X.shape[0], num_hiddens, device)\n",
    "inputs = to_onehot(X.to(device), vocab_size)\n",
    "params = get_params()\n",
    "outputs, state_new = rnn(inputs, state, params)\n",
    "print(len(outputs), outputs[0].shape, state_new[0].shape) "
   ]
  },
  {
   "cell_type": "markdown",
   "metadata": {},
   "source": [
    "# 定义预测函数"
   ]
  },
  {
   "cell_type": "raw",
   "metadata": {},
   "source": [
    "以下函数基于前缀prefix（含有数个字符的字符串）来预测接下来的num_chars个字符。这个函数稍显复杂，其中我们将循环神经单元rnn设置成了函数参数，这样在后面小节介绍其他循环神经网络时能重复使用这个函数。"
   ]
  },
  {
   "cell_type": "code",
   "execution_count": 25,
   "metadata": {},
   "outputs": [],
   "source": [
    "# 本函数已保存在d2lzh_pytorch包中方便以后使用\n",
    "def predict_rnn(prefix, num_chars, rnn, params, init_rnn_state,\n",
    "                num_hiddens, vocab_size, device, idx_to_char, char_to_idx):\n",
    "    state = init_rnn_state(1, num_hiddens, device)\n",
    "    output = [char_to_idx[prefix[0]]]\n",
    "    for t in range(num_chars + len(prefix) - 1):\n",
    "        # 将上一时间步的输出作为当前时间步的输入\n",
    "        X = to_onehot(torch.tensor([[output[-1]]], device=device), vocab_size)\n",
    "        # 计算输出和更新隐藏状态\n",
    "        (Y, state) = rnn(X, state, params)\n",
    "        # 下一个时间步的输入是prefix里的字符或者当前的最佳预测字符\n",
    "        if t < len(prefix) - 1:\n",
    "            output.append(char_to_idx[prefix[t + 1]])\n",
    "        else:\n",
    "            output.append(int(Y[0].argmax(dim=1).item()))\n",
    "    return ''.join([idx_to_char[i] for i in output])"
   ]
  },
  {
   "cell_type": "raw",
   "metadata": {},
   "source": [
    "我们先测试一下predict_rnn函数。我们将根据前缀“雪地”创作长度为10个字符（不考虑前缀长度）的一段歌词。因为模型参数为随机值，所以预测结果也是随机的。"
   ]
  },
  {
   "cell_type": "code",
   "execution_count": 26,
   "metadata": {},
   "outputs": [
    {
     "data": {
      "text/plain": [
       "'雪地怀周面坏，了雪间a相'"
      ]
     },
     "execution_count": 26,
     "metadata": {},
     "output_type": "execute_result"
    }
   ],
   "source": [
    "predict_rnn('雪地', 10, rnn, params, init_rnn_state, num_hiddens, vocab_size,\n",
    "            device, idx_to_char, char_to_idx)"
   ]
  },
  {
   "cell_type": "markdown",
   "metadata": {},
   "source": [
    "# 裁剪梯度"
   ]
  },
  {
   "cell_type": "raw",
   "metadata": {},
   "source": [
    "循环神经网络中较容易出现梯度衰减或梯度爆炸。我们会在6.6节（通过时间反向传播）中解释原因。为了应对梯度爆炸，我们可以裁剪梯度（clip gradient）。假设我们把所有模型参数梯度的元素拼接成一个向量 $\\boldsymbol{g}$，并设裁剪的阈值是$\\theta$。裁剪后的梯度\n",
    "\n",
    "$$ \\min\\left(\\frac{\\theta}{|\\boldsymbol{g}|}, 1\\right)\\boldsymbol{g}$$\n",
    "\n",
    "的$L_2$范数不超过$\\theta$。"
   ]
  },
  {
   "cell_type": "code",
   "execution_count": 27,
   "metadata": {},
   "outputs": [],
   "source": [
    "# 本函数已保存在d2lzh_pytorch包中方便以后使用\n",
    "def grad_clipping(params, theta, device):\n",
    "    norm = torch.tensor([0.0], device=device)\n",
    "    for param in params:\n",
    "        norm += (param.grad.data ** 2).sum()\n",
    "    norm = norm.sqrt().item()\n",
    "    if norm > theta:\n",
    "        for param in params:\n",
    "            param.grad.data *= (theta / norm)"
   ]
  },
  {
   "cell_type": "markdown",
   "metadata": {},
   "source": [
    "# 困惑度"
   ]
  },
  {
   "cell_type": "raw",
   "metadata": {},
   "source": [
    "我们通常使用困惑度（perplexity）来评价语言模型的好坏。回忆一下3.4节（softmax回归）中交叉熵损失函数的定义。困惑度是对交叉熵损失函数做指数运算后得到的值。特别地，\n",
    "\n",
    "最佳情况下，模型总是把标签类别的概率预测为1，此时困惑度为1；\n",
    "最坏情况下，模型总是把标签类别的概率预测为0，此时困惑度为正无穷；\n",
    "基线情况下，模型总是预测所有类别的概率都相同，此时困惑度为类别个数。\n",
    "显然，任何一个有效模型的困惑度必须小于类别个数。在本例中，困惑度必须小于词典大小vocab_size。"
   ]
  },
  {
   "cell_type": "markdown",
   "metadata": {},
   "source": [
    "# 定义模型训练函数"
   ]
  },
  {
   "cell_type": "raw",
   "metadata": {},
   "source": [
    "跟之前章节的模型训练函数相比，这里的模型训练函数有以下几点不同：\n",
    "\n",
    "使用困惑度评价模型。\n",
    "在迭代模型参数前裁剪梯度。\n",
    "对时序数据采用不同采样方法将导致隐藏状态初始化的不同。相关讨论可参考6.3节（语言模型数据集（周杰伦专辑歌词））。\n",
    "另外，考虑到后面将介绍的其他循环神经网络，为了更通用，这里的函数实现更长一些。"
   ]
  },
  {
   "cell_type": "code",
   "execution_count": 28,
   "metadata": {},
   "outputs": [],
   "source": [
    "# 本函数已保存在d2lzh_pytorch包中方便以后使用\n",
    "def train_and_predict_rnn(rnn, get_params, init_rnn_state, num_hiddens,\n",
    "                          vocab_size, device, corpus_indices, idx_to_char,\n",
    "                          char_to_idx, is_random_iter, num_epochs, num_steps,\n",
    "                          lr, clipping_theta, batch_size, pred_period,\n",
    "                          pred_len, prefixes):\n",
    "    if is_random_iter:\n",
    "        data_iter_fn = d2l.data_iter_random\n",
    "    else:\n",
    "        data_iter_fn = d2l.data_iter_consecutive\n",
    "    params = get_params()\n",
    "    loss = nn.CrossEntropyLoss()\n",
    "\n",
    "    for epoch in range(num_epochs):\n",
    "        if not is_random_iter:  # 如使用相邻采样，在epoch开始时初始化隐藏状态\n",
    "            state = init_rnn_state(batch_size, num_hiddens, device)\n",
    "        l_sum, n, start = 0.0, 0, time.time()\n",
    "        data_iter = data_iter_fn(corpus_indices, batch_size, num_steps, device)\n",
    "        for X, Y in data_iter:\n",
    "            if is_random_iter:  # 如使用随机采样，在每个小批量更新前初始化隐藏状态\n",
    "                state = init_rnn_state(batch_size, num_hiddens, device)\n",
    "            else:  \n",
    "            # 否则需要使用detach函数从计算图分离隐藏状态, 这是为了\n",
    "            # 使模型参数的梯度计算只依赖一次迭代读取的小批量序列(防止梯度计算开销太大)\n",
    "                for s in state:\n",
    "                    s.detach_()\n",
    "            \n",
    "            inputs = to_onehot(X, vocab_size)\n",
    "            # outputs有num_steps个形状为(batch_size, vocab_size)的矩阵\n",
    "            (outputs, state) = rnn(inputs, state, params)\n",
    "            # 拼接之后形状为(num_steps * batch_size, vocab_size)\n",
    "            outputs = torch.cat(outputs, dim=0)\n",
    "            # Y的形状是(batch_size, num_steps)，转置后再变成长度为\n",
    "            # batch * num_steps 的向量，这样跟输出的行一一对应\n",
    "            y = torch.transpose(Y, 0, 1).contiguous().view(-1)\n",
    "            # 使用交叉熵损失计算平均分类误差\n",
    "            l = loss(outputs, y.long())\n",
    "            \n",
    "            # 梯度清0\n",
    "            if params[0].grad is not None:\n",
    "                for param in params:\n",
    "                    param.grad.data.zero_()\n",
    "            l.backward()\n",
    "            grad_clipping(params, clipping_theta, device)  # 裁剪梯度\n",
    "            d2l.sgd(params, lr, 1)  # 因为误差已经取过均值，梯度不用再做平均\n",
    "            l_sum += l.item() * y.shape[0]\n",
    "            n += y.shape[0]\n",
    "\n",
    "        if (epoch + 1) % pred_period == 0:\n",
    "            print('epoch %d, perplexity %f, time %.2f sec' % (\n",
    "                epoch + 1, math.exp(l_sum / n), time.time() - start))\n",
    "            for prefix in prefixes:\n",
    "                print(' -', predict_rnn(prefix, pred_len, rnn, params, init_rnn_state,\n",
    "                    num_hiddens, vocab_size, device, idx_to_char, char_to_idx))"
   ]
  },
  {
   "cell_type": "markdown",
   "metadata": {},
   "source": [
    "# 训练模型并创作歌词"
   ]
  },
  {
   "cell_type": "raw",
   "metadata": {},
   "source": [
    "现在我们可以训练模型了。首先，设置模型超参数。我们将根据前缀“分开”和“不分开”分别创作长度为50个字符（不考虑前缀长度）的一段歌词。我们每过50个迭代周期便根据当前训练的模型创作一段歌词。"
   ]
  },
  {
   "cell_type": "code",
   "execution_count": 33,
   "metadata": {},
   "outputs": [],
   "source": [
    "num_epochs, num_steps, batch_size, lr, clipping_theta = 500, 10, 32, 1e2, 1e-2\n",
    "pred_period, pred_len, prefixes = 10, 10, ['雪地', '雪地']"
   ]
  },
  {
   "cell_type": "code",
   "execution_count": 34,
   "metadata": {},
   "outputs": [
    {
     "name": "stdout",
     "output_type": "stream",
     "text": [
      "epoch 10, perplexity 83.775303, time 0.02 sec\n",
      " - 雪地          \n",
      " - 雪地          \n",
      "epoch 20, perplexity 64.043442, time 0.02 sec\n",
      " - 雪地          \n",
      " - 雪地          \n",
      "epoch 30, perplexity 63.693243, time 0.02 sec\n",
      " - 雪地          \n",
      " - 雪地          \n",
      "epoch 40, perplexity 39.795353, time 0.02 sec\n",
      " - 雪地   许：我的   \n",
      " - 雪地   许：我的   \n",
      "epoch 50, perplexity 34.502378, time 0.01 sec\n",
      " - 雪地    许许我的  \n",
      " - 雪地    许许我的  \n",
      "epoch 60, perplexity 32.800678, time 0.02 sec\n",
      " - 雪地    许下我的  \n",
      " - 雪地    许下我的  \n",
      "epoch 70, perplexity 30.559623, time 0.01 sec\n",
      " - 雪地   让许许许许我的\n",
      " - 雪地   让许许许许我的\n",
      "epoch 80, perplexity 21.854583, time 0.00 sec\n",
      " - 雪地     许下的手里\n",
      " - 雪地     许下的手里\n",
      "epoch 90, perplexity 17.273430, time 0.02 sec\n",
      " - 雪地    许我的手  \n",
      " - 雪地    许我的手  \n",
      "epoch 100, perplexity 19.520284, time 0.01 sec\n",
      " - 雪地   或许的   或\n",
      " - 雪地   或许的   或\n",
      "epoch 110, perplexity 15.865052, time 0.01 sec\n",
      " - 雪地    雪许我们都 \n",
      " - 雪地    雪许我们都 \n",
      "epoch 120, perplexity 13.589556, time 0.02 sec\n",
      " - 雪地   我许我们爱在 \n",
      " - 雪地   我许我们爱在 \n",
      "epoch 130, perplexity 9.426852, time 0.02 sec\n",
      " - 雪地   谁许我们   \n",
      " - 雪地   谁许我们   \n",
      "epoch 140, perplexity 7.979770, time 0.01 sec\n",
      " - 雪地   我们   不该\n",
      " - 雪地   我们   不该\n",
      "epoch 150, perplexity 7.301096, time 0.02 sec\n",
      " - 雪地    许我们  不\n",
      " - 雪地    许我们  不\n",
      "epoch 160, perplexity 7.233630, time 0.02 sec\n",
      " - 雪地    许我们都下来\n",
      " - 雪地    许我们都下来\n",
      "epoch 170, perplexity 6.148198, time 0.02 sec\n",
      " - 雪地   让许我们都在来\n",
      " - 雪地   让许我们都在来\n",
      "epoch 180, perplexity 4.741012, time 0.02 sec\n",
      " - 雪地下来 合：放杰后 爱\n",
      " - 雪地下来 合：放杰后 爱\n",
      "epoch 190, perplexity 3.929859, time 0.01 sec\n",
      " - 雪地    雪下了 就你\n",
      " - 雪地    雪下了 就你\n",
      "epoch 200, perplexity 2.829228, time 0.02 sec\n",
      " - 雪地里不出来 男：让我里\n",
      " - 雪地里不出来 男：让我里\n",
      "epoch 210, perplexity 2.676211, time 0.00 sec\n",
      " - 雪地里不出来 男：让我们\n",
      " - 雪地里不出来 男：让我们\n",
      "epoch 220, perplexity 2.601576, time 0.02 sec\n",
      " - 雪地里不出来 男：让我们\n",
      " - 雪地里不出来 男：让我们\n",
      "epoch 230, perplexity 2.211875, time 0.01 sec\n",
      " - 雪地里不出来 男：让我们\n",
      " - 雪地里不出来 男：让我们\n",
      "epoch 240, perplexity 2.045651, time 0.01 sec\n",
      " - 雪地    而去了了下已\n",
      " - 雪地    而去了了下已\n",
      "epoch 250, perplexity 2.039450, time 0.02 sec\n",
      " - 雪地里不出来 男：让我们\n",
      " - 雪地里不出来 男：让我们\n",
      "epoch 260, perplexity 1.685087, time 0.02 sec\n",
      " - 雪地里不出来 男：让我们\n",
      " - 雪地里不出来 男：让我们\n",
      "epoch 270, perplexity 1.689618, time 0.02 sec\n",
      " - 雪地下来 合：放手后 爱\n",
      " - 雪地下来 合：放手后 爱\n",
      "epoch 280, perplexity 1.701842, time 0.02 sec\n",
      " - 雪地里，谱  男：让我里\n",
      " - 雪地里，谱  男：让我里\n",
      "epoch 290, perplexity 1.478291, time 0.00 sec\n",
      " - 雪地里不出来 男：让我里\n",
      " - 雪地里不出来 男：让我里\n",
      "epoch 300, perplexity 1.455657, time 0.02 sec\n",
      " - 雪地里妹封 缘：谁许我们\n",
      " - 雪地里妹封 缘：谁许我们\n",
      "epoch 310, perplexity 1.373486, time 0.02 sec\n",
      " - 雪地惠妹 填：却d快  \n",
      " - 雪地惠妹 填：却d快  \n",
      "epoch 320, perplexity 1.340776, time 0.02 sec\n",
      " - 雪地山，   去谁的看 \n",
      " - 雪地山，   去谁的看 \n",
      "epoch 330, perplexity 1.512064, time 0.02 sec\n",
      " - 雪地旁白   去谁抱看 \n",
      " - 雪地旁白   去谁抱看 \n",
      "epoch 340, perplexity 1.274127, time 0.02 sec\n",
      " - 雪地山白封  去谁了在下\n",
      " - 雪地山白封  去谁了在下\n",
      "epoch 350, perplexity 1.361640, time 0.01 sec\n",
      " - 雪地惠白   去谁尽了 \n",
      " - 雪地惠白   去谁尽了 \n",
      "epoch 360, perplexity 1.218564, time 0.00 sec\n",
      " - 雪地惠妹封填词买 的在我\n",
      " - 雪地惠妹封填词买 的在我\n",
      "epoch 370, perplexity 1.248720, time 0.03 sec\n",
      " - 雪地旁白   却谁都看一\n",
      " - 雪地旁白   却谁都看一\n",
      "epoch 380, perplexity 1.192193, time 0.02 sec\n",
      " - 雪地旁白封  去我尽了我\n",
      " - 雪地旁白封  去我尽了我\n",
      "epoch 390, perplexity 1.201519, time 0.03 sec\n",
      " - 雪地惠白   去此的看 \n",
      " - 雪地惠白   去此的看 \n",
      "epoch 400, perplexity 1.241036, time 0.02 sec\n",
      " - 雪地惠白 填：却d的，执\n",
      " - 雪地惠白 填：却d的，执\n",
      "epoch 410, perplexity 1.346831, time 0.03 sec\n",
      " - 雪地惠妹 填词里du方忆\n",
      " - 雪地惠妹 填词里du方忆\n",
      "epoch 420, perplexity 1.194153, time 0.02 sec\n",
      " - 雪地惠妹封   谁许在我\n",
      " - 雪地惠妹封   谁许在我\n",
      "epoch 430, perplexity 1.221834, time 0.01 sec\n",
      " - 雪地惠妹封填词周d伦， \n",
      " - 雪地惠妹封填词周d伦， \n",
      "epoch 440, perplexity 1.200208, time 0.02 sec\n",
      " - 雪地惠白 填：周du，，\n",
      " - 雪地惠白 填：周du，，\n",
      "epoch 450, perplexity 1.188108, time 0.01 sec\n",
      " - 雪地惠妹 填词：du方，\n",
      " - 雪地惠妹 填词：du方，\n",
      "epoch 460, perplexity 1.128552, time 0.02 sec\n",
      " - 雪地惠白 填：周d的，执\n",
      " - 雪地惠白 填：周d的，执\n",
      "epoch 470, perplexity 1.137773, time 0.01 sec\n",
      " - 雪地山，谱曲：周杰伦，里\n",
      " - 雪地山，谱曲：周杰伦，里\n",
      "epoch 480, perplexity 1.141068, time 0.03 sec\n",
      " - 雪地山白封 而透明，落 \n",
      " - 雪地山白封 而透明，落 \n",
      "epoch 490, perplexity 1.164394, time 0.02 sec\n",
      " - 雪地山白谱曲：周杰伦，，\n",
      " - 雪地山白谱曲：周杰伦，，\n",
      "epoch 500, perplexity 1.201234, time 0.02 sec\n",
      " - 雪地山，谱曲：周杰伦，编\n",
      " - 雪地山，谱曲：周杰伦，编\n"
     ]
    }
   ],
   "source": [
    "#下面采用随机采样训练模型并创作歌词。\n",
    "train_and_predict_rnn(rnn, get_params, init_rnn_state, num_hiddens,\n",
    "                      vocab_size, device, corpus_indices, idx_to_char,\n",
    "                      char_to_idx, True, num_epochs, num_steps, lr,\n",
    "                      clipping_theta, batch_size, pred_period, pred_len,\n",
    "                      prefixes)"
   ]
  },
  {
   "cell_type": "code",
   "execution_count": null,
   "metadata": {},
   "outputs": [],
   "source": []
  }
 ],
 "metadata": {
  "kernelspec": {
   "display_name": "Python 3",
   "language": "python",
   "name": "python3"
  },
  "language_info": {
   "codemirror_mode": {
    "name": "ipython",
    "version": 3
   },
   "file_extension": ".py",
   "mimetype": "text/x-python",
   "name": "python",
   "nbconvert_exporter": "python",
   "pygments_lexer": "ipython3",
   "version": "3.7.1"
  }
 },
 "nbformat": 4,
 "nbformat_minor": 2
}
