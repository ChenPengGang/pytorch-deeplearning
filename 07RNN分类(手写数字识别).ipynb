{
 "cells": [
  {
   "cell_type": "code",
   "execution_count": 2,
   "metadata": {},
   "outputs": [],
   "source": [
    "import torch\n",
    "import numpy as np \n",
    "from torch.autograd import Variable\n",
    "import torch.nn.functional as fun\n",
    "import matplotlib.pyplot as plt\n",
    "import torch.utils.data as Data\n",
    "import torch.nn as nn\n",
    "import torchvision \n",
    "import torchvision.datasets as dsets"
   ]
  },
  {
   "cell_type": "code",
   "execution_count": 3,
   "metadata": {},
   "outputs": [],
   "source": [
    "#超参数\n",
    "BATCH_SIZE=64\n",
    "EPOCH=1\n",
    "TIME_STEP=28\n",
    "INPUT_SIZE=28\n",
    "LR=0.01\n",
    "DOWNLOAD_MNIST=False"
   ]
  },
  {
   "cell_type": "code",
   "execution_count": 4,
   "metadata": {},
   "outputs": [],
   "source": [
    "#引用训练集、测试集\n",
    "train_data=dsets.MNIST(\n",
    "    root='./mnist',\n",
    "    train=True,\n",
    "    transform=torchvision.transforms.ToTensor(),\n",
    "    download=DOWNLOAD_MNIST,\n",
    ")\n",
    "train_loader=Data.DataLoader(\n",
    "    dataset=train_data,\n",
    "    batch_size=BATCH_SIZE,\n",
    "    shuffle=True,\n",
    "    num_workers=2\n",
    ")\n",
    "test_data=dsets.MNIST(\n",
    "    root='./mnist/',\n",
    "    train=False,\n",
    "    transform=torchvision.transforms.ToTensor()\n",
    ")\n",
    "with torch.no_grad():\n",
    "    test_x=Variable(test_data.data).type(torch.FloatTensor)[:2000]/255\n",
    "test_y=test_data.targets[:2000]"
   ]
  },
  {
   "cell_type": "code",
   "execution_count": 5,
   "metadata": {},
   "outputs": [],
   "source": [
    "class RNN(nn.Module):\n",
    "    def __init__(self):\n",
    "        super(RNN,self).__init__()\n",
    "        self.rnn=nn.LSTM(\n",
    "            input_size=INPUT_SIZE, #分批输入的数据大小（28*28）中的一个28\n",
    "            hidden_size=64, #隐藏层大小\n",
    "            num_layers=1, #隐藏层层数\n",
    "            batch_first=True  #（batch,time_step,input_size）中batch在第一位\n",
    "        )\n",
    "        self.out=nn.Linear(64,10)\n",
    "    def forward(self,x):\n",
    "        #x输入,生成h_n和h_c,h_n和h_c又会成为第二批的输入，None表示：第一批没有h_n和h_c参数\n",
    "        r_out,(h_n,h_c)=self.rnn(x,None) #x:（batch,time_step,input_size）\n",
    "        out=self.out(r_out[:,-1,:]) #（batch,time_step,input_size）对最后一层算一个nn神经网络\n",
    "        return out"
   ]
  },
  {
   "cell_type": "code",
   "execution_count": 6,
   "metadata": {},
   "outputs": [
    {
     "name": "stdout",
     "output_type": "stream",
     "text": [
      "RNN(\n",
      "  (rnn): LSTM(28, 64, batch_first=True)\n",
      "  (out): Linear(in_features=64, out_features=10, bias=True)\n",
      ")\n"
     ]
    }
   ],
   "source": [
    "#初始化\n",
    "rnn=RNN()\n",
    "print(rnn)"
   ]
  },
  {
   "cell_type": "code",
   "execution_count": 7,
   "metadata": {},
   "outputs": [],
   "source": [
    "#优化器\n",
    "optimizer=torch.optim.Adam(rnn.parameters(),lr=LR)\n",
    "loss_func=nn.CrossEntropyLoss()"
   ]
  },
  {
   "cell_type": "code",
   "execution_count": 8,
   "metadata": {},
   "outputs": [
    {
     "name": "stdout",
     "output_type": "stream",
     "text": [
      "Epoch: 0 |train loss:2.3035 |test accurancy: 0.101\n",
      "Epoch: 0 |train loss:1.0986 |test accurancy: 0.5395\n",
      "Epoch: 0 |train loss:0.9550 |test accurancy: 0.729\n",
      "Epoch: 0 |train loss:0.4884 |test accurancy: 0.8215\n",
      "Epoch: 0 |train loss:0.4959 |test accurancy: 0.841\n",
      "Epoch: 0 |train loss:0.2516 |test accurancy: 0.889\n",
      "Epoch: 0 |train loss:0.1963 |test accurancy: 0.899\n",
      "Epoch: 0 |train loss:0.2865 |test accurancy: 0.8895\n",
      "Epoch: 0 |train loss:0.3893 |test accurancy: 0.9115\n",
      "Epoch: 0 |train loss:0.1440 |test accurancy: 0.9345\n",
      "Epoch: 0 |train loss:0.0991 |test accurancy: 0.9425\n",
      "Epoch: 0 |train loss:0.0992 |test accurancy: 0.946\n",
      "Epoch: 0 |train loss:0.3270 |test accurancy: 0.9405\n",
      "Epoch: 0 |train loss:0.2118 |test accurancy: 0.9415\n",
      "Epoch: 0 |train loss:0.1426 |test accurancy: 0.935\n",
      "Epoch: 0 |train loss:0.1260 |test accurancy: 0.954\n",
      "Epoch: 0 |train loss:0.0981 |test accurancy: 0.9545\n",
      "Epoch: 0 |train loss:0.0850 |test accurancy: 0.952\n",
      "Epoch: 0 |train loss:0.2127 |test accurancy: 0.954\n"
     ]
    }
   ],
   "source": [
    "#训练\n",
    "for epoch in range(EPOCH):\n",
    "    for step ,(x,y) in enumerate(train_loader):\n",
    "        b_x=Variable(x.view(-1,28,28))\n",
    "        b_y=Variable(y)\n",
    "        output=rnn(b_x)\n",
    "        loss=loss_func(output,b_y)\n",
    "        optimizer.zero_grad()\n",
    "        loss.backward()\n",
    "        optimizer.step()\n",
    "        \n",
    "        if step%50==0:\n",
    "            test_output=rnn(test_x)\n",
    "            pred_y=torch.max(test_output,1)[1].data.squeeze()\n",
    "            accurancy=((pred_y==test_y).sum().item())/test_y.size(0)\n",
    "            print('Epoch:',epoch,'|train loss:%.4f'%loss.item(),'|test accurancy:',accurancy)"
   ]
  },
  {
   "cell_type": "code",
   "execution_count": 9,
   "metadata": {},
   "outputs": [
    {
     "name": "stdout",
     "output_type": "stream",
     "text": [
      "[7 2 1 6 4 1 4 9 5 9] prediction number\n",
      "[7 2 1 0 4 1 4 9 5 9] real number\n"
     ]
    }
   ],
   "source": [
    "#打印\n",
    "test_output=rnn(test_x[:10])\n",
    "pred_y=torch.max(test_output,1)[1].data.numpy().squeeze()\n",
    "print(pred_y,'prediction number')\n",
    "print(test_y[:10].numpy(),'real number')"
   ]
  },
  {
   "cell_type": "code",
   "execution_count": null,
   "metadata": {},
   "outputs": [],
   "source": []
  }
 ],
 "metadata": {
  "kernelspec": {
   "display_name": "Python 3",
   "language": "python",
   "name": "python3"
  },
  "language_info": {
   "codemirror_mode": {
    "name": "ipython",
    "version": 3
   },
   "file_extension": ".py",
   "mimetype": "text/x-python",
   "name": "python",
   "nbconvert_exporter": "python",
   "pygments_lexer": "ipython3",
   "version": "3.7.1"
  }
 },
 "nbformat": 4,
 "nbformat_minor": 2
}
