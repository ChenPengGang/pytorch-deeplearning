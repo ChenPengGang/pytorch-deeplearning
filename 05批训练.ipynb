{
 "cells": [
  {
   "cell_type": "code",
   "execution_count": 2,
   "metadata": {},
   "outputs": [],
   "source": [
    "import torch\n",
    "import torch.utils.data as Data"
   ]
  },
  {
   "cell_type": "code",
   "execution_count": 3,
   "metadata": {},
   "outputs": [],
   "source": [
    "BATCH_SIZE=5"
   ]
  },
  {
   "cell_type": "code",
   "execution_count": 4,
   "metadata": {},
   "outputs": [],
   "source": [
    "#fake data\n",
    "x=torch.linspace(1,10,10)\n",
    "y=torch.linspace(10,1,10)"
   ]
  },
  {
   "cell_type": "code",
   "execution_count": 5,
   "metadata": {},
   "outputs": [
    {
     "name": "stdout",
     "output_type": "stream",
     "text": [
      "torch.float32\n"
     ]
    }
   ],
   "source": [
    "print(x.dtype)"
   ]
  },
  {
   "cell_type": "code",
   "execution_count": 12,
   "metadata": {},
   "outputs": [],
   "source": [
    "#定义训练数据集\n",
    "torch_dataset=Data.TensorDataset(x,y)\n",
    "Loader=Data.DataLoader(\n",
    "    dataset=torch_dataset,\n",
    "    batch_size=BATCH_SIZE,\n",
    "    shuffle=True, #打乱顺序\n",
    "    num_workers=2,\n",
    ")"
   ]
  },
  {
   "cell_type": "code",
   "execution_count": 13,
   "metadata": {},
   "outputs": [
    {
     "name": "stdout",
     "output_type": "stream",
     "text": [
      "Epoch: 0 |step 0 |batch x: [2. 7. 3. 6. 1.] |batch y: [ 9.  4.  8.  5. 10.]\n",
      "Epoch: 0 |step 1 |batch x: [ 4. 10.  9.  8.  5.] |batch y: [7. 1. 2. 3. 6.]\n",
      "Epoch: 1 |step 0 |batch x: [5. 8. 4. 6. 9.] |batch y: [6. 3. 7. 5. 2.]\n",
      "Epoch: 1 |step 1 |batch x: [ 2. 10.  3.  7.  1.] |batch y: [ 9.  1.  8.  4. 10.]\n",
      "Epoch: 2 |step 0 |batch x: [ 4. 10.  9.  7.  5.] |batch y: [7. 1. 2. 4. 6.]\n",
      "Epoch: 2 |step 1 |batch x: [2. 6. 1. 8. 3.] |batch y: [ 9.  5. 10.  3.  8.]\n"
     ]
    }
   ],
   "source": [
    "#分批\n",
    "for epoch in range(3):\n",
    "    for step, (batch_x,batch_y) in enumerate(Loader):\n",
    "        #traing\n",
    "        print('Epoch:',epoch,'|step',step,'|batch x:',batch_x.numpy(),'|batch y:',batch_y.numpy())"
   ]
  },
  {
   "cell_type": "code",
   "execution_count": null,
   "metadata": {},
   "outputs": [],
   "source": []
  },
  {
   "cell_type": "code",
   "execution_count": null,
   "metadata": {},
   "outputs": [],
   "source": []
  }
 ],
 "metadata": {
  "kernelspec": {
   "display_name": "Python 3",
   "language": "python",
   "name": "python3"
  },
  "language_info": {
   "codemirror_mode": {
    "name": "ipython",
    "version": 3
   },
   "file_extension": ".py",
   "mimetype": "text/x-python",
   "name": "python",
   "nbconvert_exporter": "python",
   "pygments_lexer": "ipython3",
   "version": "3.7.1"
  }
 },
 "nbformat": 4,
 "nbformat_minor": 2
}
