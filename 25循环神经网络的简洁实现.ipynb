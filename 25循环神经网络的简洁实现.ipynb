{
 "cells": [
  {
   "cell_type": "code",
   "execution_count": 21,
   "metadata": {},
   "outputs": [],
   "source": [
    "import time\n",
    "import math\n",
    "import numpy as np\n",
    "import torch\n",
    "from torch import nn, optim\n",
    "import torch.nn.functional as F\n",
    "import sys\n",
    "import d2lzh_pytorch as d2l\n",
    "device = torch.device('cuda' if torch.cuda.is_available() else 'cpu')\n",
    "\n",
    "(corpus_indices, char_to_idx, idx_to_char, vocab_size) = d2l.load_data_jay_lyrics()"
   ]
  },
  {
   "cell_type": "markdown",
   "metadata": {},
   "source": [
    "# 定义模型"
   ]
  },
  {
   "cell_type": "raw",
   "metadata": {},
   "source": [
    "PyTorch中的nn模块提供了循环神经网络的实现。下面构造一个含单隐藏层、隐藏单元个数为256的循环神经网络层rnn_layer。"
   ]
  },
  {
   "cell_type": "code",
   "execution_count": 22,
   "metadata": {},
   "outputs": [],
   "source": [
    "num_hiddens = 256\n",
    "# rnn_layer = nn.LSTM(input_size=vocab_size, hidden_size=num_hiddens) # 已测试\n",
    "rnn_layer = nn.RNN(input_size=vocab_size, hidden_size=num_hiddens)"
   ]
  },
  {
   "cell_type": "raw",
   "metadata": {},
   "source": [
    "与上一节中实现的循环神经网络不同，这里rnn_layer的输入形状为(时间步数, 批量大小, 输入个数)。其中输入个数即one-hot向量长度（词典大小）。此外，rnn_layer作为nn.RNN实例，在前向计算后会分别返回输出和隐藏状态h，其中输出指的是隐藏层在各个时间步上计算并输出的隐藏状态，它们通常作为后续输出层的输入。需要强调的是，该“输出”本身并不涉及输出层计算，形状为(时间步数, 批量大小, 隐藏单元个数)。而nn.RNN实例在前向计算返回的隐藏状态指的是隐藏层在最后时间步的隐藏状态：当隐藏层有多层时，每一层的隐藏状态都会记录在该变量中；对于像长短期记忆（LSTM），隐藏状态是一个元组(h, c)，即hidden state和cell state。我们会在本章的后面介绍长短期记忆和深度循环神经网络。关于循环神经网络（以LSTM为例）的输出，可以参考下图（图片来源）。\n",
    "\n",
    "循环神经网络（以LSTM为例）的输出\n",
    "来看看我们的例子，输出形状为(时间步数, 批量大小, 隐藏单元个数)，隐藏状态h的形状为(层数, 批量大小, 隐藏单元个数)。"
   ]
  },
  {
   "cell_type": "code",
   "execution_count": 23,
   "metadata": {},
   "outputs": [
    {
     "name": "stdout",
     "output_type": "stream",
     "text": [
      "torch.Size([35, 2, 256]) 1 torch.Size([2, 256])\n"
     ]
    }
   ],
   "source": [
    "num_steps = 35\n",
    "batch_size = 2\n",
    "state = None\n",
    "X = torch.rand(num_steps, batch_size, vocab_size)\n",
    "Y, state_new = rnn_layer(X, state)\n",
    "print(Y.shape, len(state_new), state_new[0].shape)"
   ]
  },
  {
   "cell_type": "raw",
   "metadata": {},
   "source": [
    "如果rnn_layer是nn.LSTM实例，那么上面的输出是什么？\n",
    "接下来我们继承Module类来定义一个完整的循环神经网络。它首先将输入数据使用one-hot向量表示后输入到rnn_layer中，然后使用全连接输出层得到输出。输出个数等于词典大小vocab_size。"
   ]
  },
  {
   "cell_type": "code",
   "execution_count": 27,
   "metadata": {},
   "outputs": [],
   "source": [
    "# 本类已保存在d2lzh_pytorch包中方便以后使用\n",
    "class RNNModel(nn.Module):\n",
    "    def __init__(self,rnn_layer,vocab_size):\n",
    "        super(RNNModel,self).__init__()\n",
    "        self.rnn=rnn_layer\n",
    "        self.hidden_size=rnn_layer.hidden_size*(2 if rnn_layer.bidirectional else 1)\n",
    "        self.vocab_size=vocab_size\n",
    "        self.dense=nn.Linear(self.hidden_size,vocab_size)\n",
    "        self.state=None\n",
    "    def forward(self,inputs,state):# inputs: (batch, seq_len)\n",
    "        # 获取one-hot向量表示\n",
    "        X=d2l.to_onehot(inputs,self.vocab_size)\n",
    "        Y,self.state=self.rnn(torch.stack(X),state)\n",
    "        # 全连接层会首先将Y的形状变成(num_steps * batch_size, num_hiddens)，它的输出\n",
    "        # 形状为(num_steps * batch_size, vocab_size)\n",
    "        output=self.dense(Y.view(-1,Y.shape[-1]))\n",
    "        return output,self.state"
   ]
  },
  {
   "cell_type": "markdown",
   "metadata": {},
   "source": [
    "# 训练模型"
   ]
  },
  {
   "cell_type": "raw",
   "metadata": {},
   "source": [
    "同上一节一样，下面定义一个预测函数。这里的实现区别在于前向计算和初始化隐藏状态的函数接口。"
   ]
  },
  {
   "cell_type": "code",
   "execution_count": 28,
   "metadata": {},
   "outputs": [],
   "source": [
    "# 本函数已保存在d2lzh_pytorch包中方便以后使用\n",
    "def predict_rnn_pytorch(prefix, num_chars, model, vocab_size, device, idx_to_char,\n",
    "                      char_to_idx):\n",
    "    state = None\n",
    "    output = [char_to_idx[prefix[0]]] # output会记录prefix加上输出\n",
    "    for t in range(num_chars + len(prefix) - 1):\n",
    "        X = torch.tensor([output[-1]], device=device).view(1, 1)\n",
    "        if state is not None:\n",
    "            if isinstance(state, tuple): # LSTM, state:(h, c)  \n",
    "                state = (state[0].to(device), state[1].to(device))\n",
    "            else:   \n",
    "                state = state.to(device)\n",
    "            \n",
    "        (Y, state) = model(X, state)\n",
    "        if t < len(prefix) - 1:\n",
    "            output.append(char_to_idx[prefix[t + 1]])\n",
    "        else:\n",
    "            output.append(int(Y.argmax(dim=1).item()))\n",
    "    return ''.join([idx_to_char[i] for i in output])"
   ]
  },
  {
   "cell_type": "raw",
   "metadata": {},
   "source": [
    "让我们使用权重为随机值的模型来预测一次。"
   ]
  },
  {
   "cell_type": "code",
   "execution_count": 29,
   "metadata": {},
   "outputs": [
    {
     "data": {
      "text/plain": [
       "'雪地此相相相相相相相相相'"
      ]
     },
     "execution_count": 29,
     "metadata": {},
     "output_type": "execute_result"
    }
   ],
   "source": [
    "model = RNNModel(rnn_layer, vocab_size).to(device)\n",
    "predict_rnn_pytorch('雪地', 10, model, vocab_size, device, idx_to_char, char_to_idx)"
   ]
  },
  {
   "cell_type": "raw",
   "metadata": {},
   "source": [
    "接下来实现训练函数。算法同上一节的一样，但这里只使用了相邻采样来读取数据。"
   ]
  },
  {
   "cell_type": "code",
   "execution_count": 30,
   "metadata": {},
   "outputs": [],
   "source": [
    "# 本函数已保存在d2lzh_pytorch包中方便以后使用\n",
    "def train_and_predict_rnn_pytorch(model, num_hiddens, vocab_size, device,\n",
    "                                corpus_indices, idx_to_char, char_to_idx,\n",
    "                                num_epochs, num_steps, lr, clipping_theta,\n",
    "                                batch_size, pred_period, pred_len, prefixes):\n",
    "    loss = nn.CrossEntropyLoss()\n",
    "    optimizer = torch.optim.Adam(model.parameters(), lr=lr)\n",
    "    model.to(device)\n",
    "    state = None\n",
    "    for epoch in range(num_epochs):\n",
    "        l_sum, n, start = 0.0, 0, time.time()\n",
    "        data_iter = d2l.data_iter_consecutive(corpus_indices, batch_size, num_steps, device) # 相邻采样\n",
    "        for X, Y in data_iter:\n",
    "            if state is not None:\n",
    "                # 使用detach函数从计算图分离隐藏状态, 这是为了\n",
    "                # 使模型参数的梯度计算只依赖一次迭代读取的小批量序列(防止梯度计算开销太大)\n",
    "                if isinstance (state, tuple): # LSTM, state:(h, c)  \n",
    "                    state = (state[0].detach(), state[1].detach())\n",
    "                else:   \n",
    "                    state = state.detach()\n",
    "    \n",
    "            (output, state) = model(X, state) # output: 形状为(num_steps * batch_size, vocab_size)\n",
    "            \n",
    "            # Y的形状是(batch_size, num_steps)，转置后再变成长度为\n",
    "            # batch * num_steps 的向量，这样跟输出的行一一对应\n",
    "            y = torch.transpose(Y, 0, 1).contiguous().view(-1)\n",
    "            l = loss(output, y.long())\n",
    "            \n",
    "            optimizer.zero_grad()\n",
    "            l.backward()\n",
    "            # 梯度裁剪\n",
    "            d2l.grad_clipping(model.parameters(), clipping_theta, device)\n",
    "            optimizer.step()\n",
    "            l_sum += l.item() * y.shape[0]\n",
    "            n += y.shape[0]\n",
    "        \n",
    "        try:\n",
    "            perplexity = math.exp(l_sum / n)\n",
    "        except OverflowError:\n",
    "            perplexity = float('inf')\n",
    "        if (epoch + 1) % pred_period == 0:\n",
    "            print('epoch %d, perplexity %f, time %.2f sec' % (\n",
    "                epoch + 1, perplexity, time.time() - start))\n",
    "            for prefix in prefixes:\n",
    "                print(' -', predict_rnn_pytorch(\n",
    "                    prefix, pred_len, model, vocab_size, device, idx_to_char,\n",
    "                    char_to_idx))"
   ]
  },
  {
   "cell_type": "code",
   "execution_count": 31,
   "metadata": {},
   "outputs": [
    {
     "name": "stdout",
     "output_type": "stream",
     "text": [
      "epoch 10, perplexity 78.246175, time 0.02 sec\n",
      " - 雪地          \n",
      " - 雪地          \n",
      "epoch 20, perplexity 69.790353, time 0.02 sec\n",
      " - 雪地          \n",
      " - 雪地          \n",
      "epoch 30, perplexity 65.394586, time 0.00 sec\n",
      " - 雪地          \n",
      " - 雪地          \n",
      "epoch 40, perplexity 59.792452, time 0.00 sec\n",
      " - 雪地          \n",
      " - 雪地          \n",
      "epoch 50, perplexity 51.236719, time 0.01 sec\n",
      " - 雪地里         \n",
      " - 雪地里         \n",
      "epoch 60, perplexity 38.283657, time 0.00 sec\n",
      " - 雪地里         \n",
      " - 雪地里         \n",
      "epoch 70, perplexity 21.679526, time 0.01 sec\n",
      " - 雪地里    ：你缠与 \n",
      " - 雪地里    ：你缠与 \n",
      "epoch 80, perplexity 11.783931, time 0.00 sec\n",
      " - 雪地里   却：我们  \n",
      " - 雪地里   却：我们  \n",
      "epoch 90, perplexity 6.303640, time 0.01 sec\n",
      " - 雪地里 爱 他们说零是 \n",
      " - 雪地里 爱 他们说零是 \n",
      "epoch 100, perplexity 3.752505, time 0.00 sec\n",
      " - 雪地里 爱 他们说零下已\n",
      " - 雪地里 爱 他们说零下已\n",
      "epoch 110, perplexity 2.517347, time 0.00 sec\n",
      " - 雪地里 爱 他们说零下已\n",
      " - 雪地里 爱 他们说零下已\n",
      "epoch 120, perplexity 1.884444, time 0.02 sec\n",
      " - 雪地里 爱 他们说零下已\n",
      " - 雪地里 爱 他们说零下已\n",
      "epoch 130, perplexity 1.564456, time 0.00 sec\n",
      " - 雪地里 爱 他们说零下已\n",
      " - 雪地里 爱 他们说零下已\n",
      "epoch 140, perplexity 1.366980, time 0.02 sec\n",
      " - 雪地里 爱 他们说零下已\n",
      " - 雪地里 爱 他们说零下已\n",
      "epoch 150, perplexity 1.259872, time 0.01 sec\n",
      " - 雪地里 爱 他们说零下已\n",
      " - 雪地里 爱 他们说零下已\n",
      "epoch 160, perplexity 1.182962, time 0.01 sec\n",
      " - 雪地里 爱 他们说零下已\n",
      " - 雪地里 爱 他们说零下已\n",
      "epoch 170, perplexity 1.140744, time 0.02 sec\n",
      " - 雪地里 爱 他们说零下已\n",
      " - 雪地里 爱 他们说零下已\n",
      "epoch 180, perplexity 1.111414, time 0.00 sec\n",
      " - 雪地里 爱 他们说零下已\n",
      " - 雪地里 爱 他们说零下已\n",
      "epoch 190, perplexity 1.088505, time 0.02 sec\n",
      " - 雪地里 爱 他们说零下已\n",
      " - 雪地里 爱 他们说零下已\n",
      "epoch 200, perplexity 1.077597, time 0.01 sec\n",
      " - 雪地里 爱 他们说零下已\n",
      " - 雪地里 爱 他们说零下已\n",
      "epoch 210, perplexity 1.064078, time 0.00 sec\n",
      " - 雪地里 爱 他们说零下已\n",
      " - 雪地里 爱 他们说零下已\n",
      "epoch 220, perplexity 1.054792, time 0.00 sec\n",
      " - 雪地里 爱 他们说零下已\n",
      " - 雪地里 爱 他们说零下已\n",
      "epoch 230, perplexity 1.049628, time 0.01 sec\n",
      " - 雪地里 爱 他们说零下已\n",
      " - 雪地里 爱 他们说零下已\n",
      "epoch 240, perplexity 1.043236, time 0.01 sec\n",
      " - 雪地里 爱 他们说零下已\n",
      " - 雪地里 爱 他们说零下已\n",
      "epoch 250, perplexity 1.036754, time 0.01 sec\n",
      " - 雪地里 爱 他们说零下已\n",
      " - 雪地里 爱 他们说零下已\n",
      "epoch 260, perplexity 1.031966, time 0.00 sec\n",
      " - 雪地里 爱 他们说零下已\n",
      " - 雪地里 爱 他们说零下已\n",
      "epoch 270, perplexity 1.028258, time 0.02 sec\n",
      " - 雪地里 爱 他们说零下已\n",
      " - 雪地里 爱 他们说零下已\n",
      "epoch 280, perplexity 1.025394, time 0.02 sec\n",
      " - 雪地里 爱 他们说零下已\n",
      " - 雪地里 爱 他们说零下已\n",
      "epoch 290, perplexity 1.022990, time 0.00 sec\n",
      " - 雪地里 爱 他们说零下已\n",
      " - 雪地里 爱 他们说零下已\n",
      "epoch 300, perplexity 1.020988, time 0.02 sec\n",
      " - 雪地里 爱 他们说零下已\n",
      " - 雪地里 爱 他们说零下已\n",
      "epoch 310, perplexity 1.019241, time 0.00 sec\n",
      " - 雪地里 爱 他们说零下已\n",
      " - 雪地里 爱 他们说零下已\n",
      "epoch 320, perplexity 1.017662, time 0.02 sec\n",
      " - 雪地里 爱 他们说零下已\n",
      " - 雪地里 爱 他们说零下已\n",
      "epoch 330, perplexity 1.016302, time 0.01 sec\n",
      " - 雪地里 爱 他们说零下已\n",
      " - 雪地里 爱 他们说零下已\n",
      "epoch 340, perplexity 1.015108, time 0.00 sec\n",
      " - 雪地里 爱 他们说零下已\n",
      " - 雪地里 爱 他们说零下已\n",
      "epoch 350, perplexity 1.014066, time 0.02 sec\n",
      " - 雪地里 爱 他们说零下已\n",
      " - 雪地里 爱 他们说零下已\n",
      "epoch 360, perplexity 1.013139, time 0.02 sec\n",
      " - 雪地里 爱 他们说零下已\n",
      " - 雪地里 爱 他们说零下已\n",
      "epoch 370, perplexity 1.012308, time 0.01 sec\n",
      " - 雪地里 爱 他们说零下已\n",
      " - 雪地里 爱 他们说零下已\n",
      "epoch 380, perplexity 1.011567, time 0.00 sec\n",
      " - 雪地里 爱 他们说零下已\n",
      " - 雪地里 爱 他们说零下已\n",
      "epoch 390, perplexity 1.010892, time 0.00 sec\n",
      " - 雪地里 爱 他们说零下已\n",
      " - 雪地里 爱 他们说零下已\n",
      "epoch 400, perplexity 1.010272, time 0.02 sec\n",
      " - 雪地里 爱 他们说零下已\n",
      " - 雪地里 爱 他们说零下已\n",
      "epoch 410, perplexity 1.009708, time 0.00 sec\n",
      " - 雪地里 爱 他们说零下已\n",
      " - 雪地里 爱 他们说零下已\n",
      "epoch 420, perplexity 1.009194, time 0.00 sec\n",
      " - 雪地里 爱 他们说零下已\n",
      " - 雪地里 爱 他们说零下已\n",
      "epoch 430, perplexity 1.008724, time 0.02 sec\n",
      " - 雪地里 爱 他们说零下已\n",
      " - 雪地里 爱 他们说零下已\n",
      "epoch 440, perplexity 1.008292, time 0.02 sec\n",
      " - 雪地里 爱 他们说零下已\n",
      " - 雪地里 爱 他们说零下已\n",
      "epoch 450, perplexity 1.007893, time 0.01 sec\n",
      " - 雪地里 爱 他们说零下已\n",
      " - 雪地里 爱 他们说零下已\n",
      "epoch 460, perplexity 1.007523, time 0.02 sec\n",
      " - 雪地里 爱 他们说零下已\n",
      " - 雪地里 爱 他们说零下已\n",
      "epoch 470, perplexity 1.007181, time 0.01 sec\n",
      " - 雪地里 爱 他们说零下已\n",
      " - 雪地里 爱 他们说零下已\n",
      "epoch 480, perplexity 1.006863, time 0.02 sec\n",
      " - 雪地里 爱 他们说零下已\n",
      " - 雪地里 爱 他们说零下已\n",
      "epoch 490, perplexity 1.006568, time 0.00 sec\n",
      " - 雪地里 爱 他们说零下已\n",
      " - 雪地里 爱 他们说零下已\n",
      "epoch 500, perplexity 1.006292, time 0.02 sec\n",
      " - 雪地里 爱 他们说零下已\n",
      " - 雪地里 爱 他们说零下已\n"
     ]
    }
   ],
   "source": [
    "#使用和上一节实验中一样的超参数（除了学习率）来训练模型。\n",
    "num_epochs, batch_size, lr, clipping_theta = 500, 10, 1e-3, 1e-2 # 注意这里的学习率设置\n",
    "pred_period, pred_len, prefixes = 10, 10, ['雪地', '雪地']\n",
    "train_and_predict_rnn_pytorch(model, num_hiddens, vocab_size, device,\n",
    "                            corpus_indices, idx_to_char, char_to_idx,\n",
    "                            num_epochs, num_steps, lr, clipping_theta,\n",
    "                            batch_size, pred_period, pred_len, prefixes)"
   ]
  },
  {
   "cell_type": "code",
   "execution_count": null,
   "metadata": {},
   "outputs": [],
   "source": []
  },
  {
   "cell_type": "code",
   "execution_count": null,
   "metadata": {},
   "outputs": [],
   "source": []
  }
 ],
 "metadata": {
  "kernelspec": {
   "display_name": "Python 3",
   "language": "python",
   "name": "python3"
  },
  "language_info": {
   "codemirror_mode": {
    "name": "ipython",
    "version": 3
   },
   "file_extension": ".py",
   "mimetype": "text/x-python",
   "name": "python",
   "nbconvert_exporter": "python",
   "pygments_lexer": "ipython3",
   "version": "3.7.1"
  }
 },
 "nbformat": 4,
 "nbformat_minor": 2
}
