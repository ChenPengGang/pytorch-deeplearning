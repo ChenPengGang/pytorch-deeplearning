{
 "cells": [
  {
   "cell_type": "code",
   "execution_count": 46,
   "metadata": {},
   "outputs": [],
   "source": [
    "import torch\n",
    "import numpy as np \n",
    "from torch.autograd import Variable\n",
    "import torch.nn.functional as fun\n",
    "import matplotlib.pyplot as plt"
   ]
  },
  {
   "cell_type": "code",
   "execution_count": 47,
   "metadata": {},
   "outputs": [
    {
     "name": "stdout",
     "output_type": "stream",
     "text": [
      "Sequential(\n",
      "  (0): Linear(in_features=1, out_features=10, bias=True)\n",
      "  (1): ReLU()\n",
      "  (2): Linear(in_features=10, out_features=1, bias=True)\n",
      ")\n"
     ]
    }
   ],
   "source": [
    "#神经网络快速搭建\n",
    "net=torch.nn.Sequential(\n",
    "    torch.nn.Linear(1,10),\n",
    "    torch.nn.ReLU(),\n",
    "    torch.nn.Linear(10,1)\n",
    ")\n",
    "print(net)"
   ]
  },
  {
   "cell_type": "code",
   "execution_count": 56,
   "metadata": {},
   "outputs": [],
   "source": [
    "#fake data\n",
    "x=torch.unsqueeze(torch.linspace(-1,1,100),dim=1) #把一维随机数据变为二维，因为它只处理二维\n",
    "y=x.pow(2)+0.2*torch.rand(x.size())"
   ]
  },
  {
   "cell_type": "code",
   "execution_count": 57,
   "metadata": {},
   "outputs": [],
   "source": [
    "#转化\n",
    "x,y=Variable(x),Variable(y)"
   ]
  },
  {
   "cell_type": "code",
   "execution_count": 59,
   "metadata": {},
   "outputs": [],
   "source": [
    "#优化策略与损失函数\n",
    "optimizer=torch.optim.SGD(net.parameters(),lr=0.5)\n",
    "loss_func=torch.nn.MSELoss()"
   ]
  },
  {
   "cell_type": "code",
   "execution_count": 69,
   "metadata": {},
   "outputs": [],
   "source": [
    "def save():\n",
    "    #训练\n",
    "    for i in range(100):\n",
    "        predict=net(x)\n",
    "        loss=loss_func(predict,y)\n",
    "        optimizer.zero_grad()\n",
    "        loss.backward()\n",
    "        optimizer.step()\n",
    "    #保存整个神经网络\n",
    "    torch.save(net,'net.pkl')\n",
    "    #只保留节点参数\n",
    "    torch.save(net.state_dict(),'net_params.pkl')\n",
    "    #net1\n",
    "    plt.subplot(131)\n",
    "    plt.title('net1')\n",
    "    plt.scatter(x.data.numpy(),y.data.numpy())\n",
    "    plt.plot(x.data.numpy(),predict.data.numpy(),'r-',lw=5)"
   ]
  },
  {
   "cell_type": "code",
   "execution_count": 70,
   "metadata": {},
   "outputs": [],
   "source": [
    "#提取存好的整个网络\n",
    "def restore_net():\n",
    "    net2=torch.load('net.pkl')\n",
    "    predict2=net2(x)\n",
    "    #net2\n",
    "    plt.subplot(132)\n",
    "    plt.title('net2')\n",
    "    plt.scatter(x.data.numpy(),y.data.numpy())\n",
    "    plt.plot(x.data.numpy(),predict2.data.numpy(),'r-',lw=5)\n"
   ]
  },
  {
   "cell_type": "code",
   "execution_count": 71,
   "metadata": {},
   "outputs": [],
   "source": [
    "#提取参数\n",
    "def restore_params():\n",
    "    net3=torch.nn.Sequential(\n",
    "        torch.nn.Linear(1,10),\n",
    "        torch.nn.ReLU(),\n",
    "        torch.nn.Linear(10,1)\n",
    "    )\n",
    "    net3.load_state_dict(torch.load('net_params.pkl'))\n",
    "    predict3=net3(x)\n",
    "    #net3\n",
    "    plt.subplot(133)\n",
    "    plt.title('net3')\n",
    "    plt.scatter(x.data.numpy(),y.data.numpy())\n",
    "    plt.plot(x.data.numpy(),predict3.data.numpy(),'r-',lw=5)"
   ]
  },
  {
   "cell_type": "code",
   "execution_count": 72,
   "metadata": {},
   "outputs": [
    {
     "data": {
      "text/plain": [
       "<Figure size 720x216 with 0 Axes>"
      ]
     },
     "execution_count": 72,
     "metadata": {},
     "output_type": "execute_result"
    },
    {
     "data": {
      "text/plain": [
       "<Figure size 720x216 with 0 Axes>"
      ]
     },
     "metadata": {},
     "output_type": "display_data"
    }
   ],
   "source": [
    "plt.figure(1,figsize=(10,3))"
   ]
  },
  {
   "cell_type": "code",
   "execution_count": 73,
   "metadata": {},
   "outputs": [
    {
     "data": {
      "image/png": "[encoded data removed]",
      "text/plain": [
       "<Figure size 432x288 with 3 Axes>"
      ]
     },
     "metadata": {
      "needs_background": "light"
     },
     "output_type": "display_data"
    }
   ],
   "source": [
    "#查看三个网络效果（已存在当前目录）\n",
    "save()\n",
    "restore_net()\n",
    "restore_params()"
   ]
  },
  {
   "cell_type": "code",
   "execution_count": null,
   "metadata": {},
   "outputs": [],
   "source": [
    "\n",
    "\n",
    "\n"
   ]
  }
 ],
 "metadata": {
  "kernelspec": {
   "display_name": "Python 3",
   "language": "python",
   "name": "python3"
  },
  "language_info": {
   "codemirror_mode": {
    "name": "ipython",
    "version": 3
   },
   "file_extension": ".py",
   "mimetype": "text/x-python",
   "name": "python",
   "nbconvert_exporter": "python",
   "pygments_lexer": "ipython3",
   "version": "3.7.6"
  }
 },
 "nbformat": 4,
 "nbformat_minor": 2
}
